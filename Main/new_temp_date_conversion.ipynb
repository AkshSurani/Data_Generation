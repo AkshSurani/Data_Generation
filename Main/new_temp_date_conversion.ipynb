{
 "cells": [
  {
   "cell_type": "code",
   "execution_count": 155,
   "id": "2fd5b772",
   "metadata": {},
   "outputs": [],
   "source": [
    "import pandas as pd\n",
    "import numpy as np\n",
    "from faker import Faker\n",
    "import random\n",
    "from datetime import datetime, timedelta, time\n",
    "import json\n",
    "import os"
   ]
  },
  {
   "cell_type": "code",
   "execution_count": 156,
   "id": "49cdf7ba",
   "metadata": {},
   "outputs": [],
   "source": [
    "# file_name = 'data2/customer_address.csv'\n",
    "# file_name = 'data2/customer.csv'\n",
    "# file_name = 'data3/delivery.csv'\n",
    "# file_name = 'data3/menu_items.csv'\n",
    "file_name = 'data1/order_items.csv'\n",
    "# file_name = 'data3/orders.csv'\n",
    "# file_name = 'data3/restaurant.csv'\n",
    "\n",
    "# file_name = 'temp/customer.csv'"
   ]
  },
  {
   "cell_type": "code",
   "execution_count": 157,
   "id": "39393724",
   "metadata": {},
   "outputs": [],
   "source": [
    "df = pd.read_csv(file_name)"
   ]
  },
  {
   "cell_type": "code",
   "execution_count": 158,
   "id": "12662e80",
   "metadata": {},
   "outputs": [],
   "source": [
    "df['CreatedDate'] = pd.to_datetime(df['CreatedDate']).dt.floor('s')\n",
    "df['ModifiedDate'] = pd.to_datetime(df['ModifiedDate']).dt.floor('s')"
   ]
  },
  {
   "cell_type": "code",
   "execution_count": 159,
   "id": "b9c8d8b6",
   "metadata": {},
   "outputs": [],
   "source": [
    "# df['LastLogin'] = pd.to_datetime(df['LastLogin']).dt.floor('s')"
   ]
  },
  {
   "cell_type": "code",
   "execution_count": 160,
   "id": "ba350b32",
   "metadata": {},
   "outputs": [],
   "source": [
    "df.to_csv(file_name, index=False)"
   ]
  }
 ],
 "metadata": {
  "kernelspec": {
   "display_name": "Python 3",
   "language": "python",
   "name": "python3"
  },
  "language_info": {
   "codemirror_mode": {
    "name": "ipython",
    "version": 3
   },
   "file_extension": ".py",
   "mimetype": "text/x-python",
   "name": "python",
   "nbconvert_exporter": "python",
   "pygments_lexer": "ipython3",
   "version": "3.12.9"
  }
 },
 "nbformat": 4,
 "nbformat_minor": 5
}
